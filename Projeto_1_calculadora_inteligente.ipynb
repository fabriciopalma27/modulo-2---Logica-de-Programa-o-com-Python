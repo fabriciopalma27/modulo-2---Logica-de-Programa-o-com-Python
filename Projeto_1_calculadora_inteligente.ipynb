{
  "nbformat": 4,
  "nbformat_minor": 0,
  "metadata": {
    "colab": {
      "provenance": []
    },
    "kernelspec": {
      "name": "python3",
      "display_name": "Python 3"
    },
    "language_info": {
      "name": "python"
    }
  },
  "cells": [
    {
      "cell_type": "code",
      "execution_count": 7,
      "metadata": {
        "colab": {
          "base_uri": "https://localhost:8080/"
        },
        "id": "FtcL_FfW-SrC",
        "outputId": "4ef44fb7-c847-4973-a4ea-f74a8090e8b1"
      },
      "outputs": [
        {
          "output_type": "stream",
          "name": "stdout",
          "text": [
            "[]\n"
          ]
        }
      ],
      "source": [
        "#lista de variáveis para iniciar\n",
        "lista = []\n",
        "print(lista)"
      ]
    },
    {
      "cell_type": "code",
      "source": [
        "#Digitando a fórmula\n",
        "\n",
        "print(\"Digite a fórmula que deseja calcular, caso queira terminar, digite '='\")\n",
        "\n",
        "while True:\n",
        "    lista.append(float(input(\"Digite o valor: \")))\n",
        "    lista.append(input(\"Digite o operador: \"))\n",
        "    if lista[-1] == \"=\":\n",
        "        break\n",
        "\n",
        "print(lista)"
      ],
      "metadata": {
        "colab": {
          "base_uri": "https://localhost:8080/"
        },
        "id": "XnyhU23hAPhj",
        "outputId": "360a8e09-b1ef-40bd-d416-8995205c10b4"
      },
      "execution_count": 8,
      "outputs": [
        {
          "output_type": "stream",
          "name": "stdout",
          "text": [
            "Digite a fórmula que deseja calcular, caso queira terminar, digite '='\n",
            "Digite o valor: 2\n",
            "Digite o operador: +\n",
            "Digite o valor: 2\n",
            "Digite o operador: *\n",
            "Digite o valor: 2\n",
            "Digite o operador: =\n",
            "[2.0, '+', 2.0, '*', 2.0, '=']\n"
          ]
        }
      ]
    },
    {
      "cell_type": "code",
      "source": [
        "#Calculando multiplicadores\n",
        "\n",
        "vfinal = lista[0]\n",
        "\n",
        "print(vfinal)\n",
        "cont_lista = 1\n",
        "\n",
        "while cont_lista < len(lista)-1:\n",
        "\n",
        "  operador = lista[cont_lista]\n",
        "  numero = lista[cont_lista+1]\n",
        "\n",
        "  if operador in (\"*\", \"/\", \"^\", \"%\", \"**\", \"//\"):\n",
        "    if operador == \"*\":\n",
        "      vfinal = vfinal * numero\n",
        "    elif operador == \"/\":\n",
        "      vfinal = vfinal / numero\n",
        "    elif operador == \"^\":\n",
        "      vfinal = vfinal ** numero\n",
        "    elif operador == \"%\":\n",
        "      vfinal = vfinal % numero\n",
        "    elif operador == \"**\":\n",
        "      vfinal = vfinal ** numero\n",
        "    elif operador == \"//\":\n",
        "      vfinal = vfinal // numero\n",
        "\n",
        "    cont_lista += 2\n",
        "\n",
        "  else:\n",
        "    cont_lista += 2\n",
        "\n",
        "print(\"vfinal é\", vfinal)\n",
        "print(lista)"
      ],
      "metadata": {
        "colab": {
          "base_uri": "https://localhost:8080/"
        },
        "id": "1AyFP3xiAZPK",
        "outputId": "5257bced-cef1-4cae-ef8e-4b6e7d1fdd95"
      },
      "execution_count": 14,
      "outputs": [
        {
          "output_type": "stream",
          "name": "stdout",
          "text": [
            "2.0\n",
            "vfinal é 4.0\n",
            "[2.0, '+', 2.0, '*', 2.0, '=']\n"
          ]
        }
      ]
    },
    {
      "cell_type": "code",
      "source": [
        "print(vfinal)"
      ],
      "metadata": {
        "colab": {
          "base_uri": "https://localhost:8080/"
        },
        "id": "6WsAo92nR48l",
        "outputId": "078555a1-bd87-4497-d783-9da8c93cee09"
      },
      "execution_count": 16,
      "outputs": [
        {
          "output_type": "stream",
          "name": "stdout",
          "text": [
            "4.0\n"
          ]
        }
      ]
    },
    {
      "cell_type": "code",
      "source": [
        "#calculando soma e subtração\n",
        "\n",
        "print(vfinal)\n",
        "cont_lista = 1\n",
        "\n",
        "while cont_lista < len(lista)-1:\n",
        "\n",
        "  operador = lista[cont_lista]\n",
        "  numero = lista[cont_lista+1]\n",
        "\n",
        "  if operador in (\"+\", \"-\"):\n",
        "    if operador == \"+\":\n",
        "      vfinal = vfinal + numero\n",
        "    elif operador == \"-\":\n",
        "      vfinal = vfinal - numero\n",
        "\n",
        "    cont_lista += 2\n",
        "\n",
        "  else:\n",
        "    cont_lista += 2\n",
        "\n",
        "print(vfinal)\n",
        "print(lista)\n",
        ""
      ],
      "metadata": {
        "colab": {
          "base_uri": "https://localhost:8080/"
        },
        "id": "P4Re2Ao5QYW8",
        "outputId": "799f150d-3051-4de7-9fbc-6a16614e6948"
      },
      "execution_count": 17,
      "outputs": [
        {
          "output_type": "stream",
          "name": "stdout",
          "text": [
            "4.0\n",
            "6.0\n",
            "[2.0, '+', 2.0, '*', 2.0, '=']\n"
          ]
        }
      ]
    },
    {
      "cell_type": "code",
      "source": [
        "#Resultado final\n",
        "print(\"O resultado de\", lista, \"é\", vfinal)"
      ],
      "metadata": {
        "colab": {
          "base_uri": "https://localhost:8080/"
        },
        "id": "_36sOE84OtYd",
        "outputId": "e5cc3716-64ae-4261-ba54-94e77066e2ea"
      },
      "execution_count": 18,
      "outputs": [
        {
          "output_type": "stream",
          "name": "stdout",
          "text": [
            "O resultado de [2.0, '+', 2.0, '*', 2.0, '='] é 6.0\n"
          ]
        }
      ]
    }
  ]
}